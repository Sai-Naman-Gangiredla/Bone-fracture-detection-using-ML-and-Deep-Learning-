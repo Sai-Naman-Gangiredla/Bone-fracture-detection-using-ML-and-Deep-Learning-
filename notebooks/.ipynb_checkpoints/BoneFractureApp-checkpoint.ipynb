{
 "cells": [
  {
   "cell_type": "code",
   "execution_count": 1,
   "id": "597f10ee-05f8-4fa3-b2a6-711157fc91b4",
   "metadata": {},
   "outputs": [
    {
     "name": "stdout",
     "output_type": "stream",
     "text": [
      "Collecting pillow\n",
      "  Using cached pillow-11.3.0-cp313-cp313-win_amd64.whl.metadata (9.2 kB)\n",
      "Downloading pillow-11.3.0-cp313-cp313-win_amd64.whl (7.0 MB)\n",
      "   ---------------------------------------- 0.0/7.0 MB ? eta -:--:--\n",
      "   ---------------------------------------- 0.0/7.0 MB ? eta -:--:--\n",
      "   ---------------------------------------- 0.0/7.0 MB ? eta -:--:--\n",
      "   ---------------------------------------- 0.0/7.0 MB ? eta -:--:--\n",
      "   ---------------------------------------- 0.0/7.0 MB ? eta -:--:--\n",
      "   - -------------------------------------- 0.3/7.0 MB ? eta -:--:--\n",
      "   - -------------------------------------- 0.3/7.0 MB ? eta -:--:--\n",
      "   --- ------------------------------------ 0.5/7.0 MB 649.3 kB/s eta 0:00:10\n",
      "   --- ------------------------------------ 0.5/7.0 MB 649.3 kB/s eta 0:00:10\n",
      "   ---- ----------------------------------- 0.8/7.0 MB 606.8 kB/s eta 0:00:11\n",
      "   ---- ----------------------------------- 0.8/7.0 MB 606.8 kB/s eta 0:00:11\n",
      "   ------ --------------------------------- 1.0/7.0 MB 637.7 kB/s eta 0:00:10\n",
      "   ------- -------------------------------- 1.3/7.0 MB 680.2 kB/s eta 0:00:09\n",
      "   ------- -------------------------------- 1.3/7.0 MB 680.2 kB/s eta 0:00:09\n",
      "   --------- ------------------------------ 1.6/7.0 MB 673.7 kB/s eta 0:00:09\n",
      "   --------- ------------------------------ 1.6/7.0 MB 673.7 kB/s eta 0:00:09\n",
      "   ---------- ----------------------------- 1.8/7.0 MB 687.2 kB/s eta 0:00:08\n",
      "   ------------ --------------------------- 2.1/7.0 MB 714.6 kB/s eta 0:00:07\n",
      "   ------------ --------------------------- 2.1/7.0 MB 714.6 kB/s eta 0:00:07\n",
      "   ------------- -------------------------- 2.4/7.0 MB 725.8 kB/s eta 0:00:07\n",
      "   --------------- ------------------------ 2.6/7.0 MB 740.3 kB/s eta 0:00:06\n",
      "   ---------------- ----------------------- 2.9/7.0 MB 757.8 kB/s eta 0:00:06\n",
      "   ---------------- ----------------------- 2.9/7.0 MB 757.8 kB/s eta 0:00:06\n",
      "   ------------------ --------------------- 3.1/7.0 MB 761.3 kB/s eta 0:00:06\n",
      "   ------------------ --------------------- 3.1/7.0 MB 761.3 kB/s eta 0:00:06\n",
      "   ------------------- -------------------- 3.4/7.0 MB 767.3 kB/s eta 0:00:05\n",
      "   --------------------- ------------------ 3.7/7.0 MB 773.3 kB/s eta 0:00:05\n",
      "   --------------------- ------------------ 3.7/7.0 MB 773.3 kB/s eta 0:00:05\n",
      "   ---------------------- ----------------- 3.9/7.0 MB 764.9 kB/s eta 0:00:04\n",
      "   ---------------------- ----------------- 3.9/7.0 MB 764.9 kB/s eta 0:00:04\n",
      "   ------------------------ --------------- 4.2/7.0 MB 761.2 kB/s eta 0:00:04\n",
      "   ------------------------ --------------- 4.2/7.0 MB 761.2 kB/s eta 0:00:04\n",
      "   ------------------------ --------------- 4.2/7.0 MB 761.2 kB/s eta 0:00:04\n",
      "   ------------------------- -------------- 4.5/7.0 MB 704.5 kB/s eta 0:00:04\n",
      "   ------------------------- -------------- 4.5/7.0 MB 704.5 kB/s eta 0:00:04\n",
      "   --------------------------- ------------ 4.7/7.0 MB 711.6 kB/s eta 0:00:04\n",
      "   ---------------------------- ----------- 5.0/7.0 MB 730.8 kB/s eta 0:00:03\n",
      "   ------------------------------ --------- 5.2/7.0 MB 747.7 kB/s eta 0:00:03\n",
      "   ------------------------------- -------- 5.5/7.0 MB 756.0 kB/s eta 0:00:02\n",
      "   --------------------------------- ------ 5.8/7.0 MB 766.0 kB/s eta 0:00:02\n",
      "   --------------------------------- ------ 5.8/7.0 MB 766.0 kB/s eta 0:00:02\n",
      "   ---------------------------------- ----- 6.0/7.0 MB 770.4 kB/s eta 0:00:02\n",
      "   ------------------------------------ --- 6.3/7.0 MB 776.0 kB/s eta 0:00:01\n",
      "   ------------------------------------- -- 6.6/7.0 MB 786.0 kB/s eta 0:00:01\n",
      "   ---------------------------------------  6.8/7.0 MB 798.5 kB/s eta 0:00:01\n",
      "   ---------------------------------------- 7.0/7.0 MB 806.5 kB/s eta 0:00:00\n",
      "Installing collected packages: pillow\n",
      "Successfully installed pillow-11.3.0\n"
     ]
    }
   ],
   "source": [
    "   !pip install pillow"
   ]
  },
  {
   "cell_type": "code",
   "execution_count": 3,
   "id": "86df2e70-51f8-4871-a377-f74c164a628a",
   "metadata": {},
   "outputs": [
    {
     "name": "stdout",
     "output_type": "stream",
     "text": [
      "Prediction: Impacted fracture\n"
     ]
    }
   ],
   "source": [
    "from PIL import Image\n",
    "import random\n",
    "\n",
    "# Dummy function to simulate ML prediction\n",
    "def predict_fracture(image_path):\n",
    "    classes = [\n",
    "        \"Avulsion fracture\", \"Comminuted fracture\", \"Fracture Dislocation\",\n",
    "        \"Greenstick fracture\", \"Hairline Fracture\", \"Impacted fracture\",\n",
    "        \"Longitudinal fracture\", \"Oblique fracture\", \"Pathological fracture\",\n",
    "        \"Spiral Fracture\", \"Not fractured\"\n",
    "    ]\n",
    "    return random.choice(classes)\n",
    "\n",
    "# Change this to your image file name\n",
    "image_path = \"xray_sample.jpeg\"  # <-- Replace with your actual file name\n",
    "\n",
    "# Open and show the image\n",
    "img = Image.open(image_path)\n",
    "img.show()\n",
    "\n",
    "# Get prediction\n",
    "result = predict_fracture(image_path)\n",
    "print(\"Prediction:\", result)"
   ]
  },
  {
   "cell_type": "code",
   "execution_count": null,
   "id": "56166cb1-57d0-475e-a9fa-887a125512a4",
   "metadata": {},
   "outputs": [],
   "source": []
  }
 ],
 "metadata": {
  "kernelspec": {
   "display_name": "Python 3 (ipykernel)",
   "language": "python",
   "name": "python3"
  },
  "language_info": {
   "codemirror_mode": {
    "name": "ipython",
    "version": 3
   },
   "file_extension": ".py",
   "mimetype": "text/x-python",
   "name": "python",
   "nbconvert_exporter": "python",
   "pygments_lexer": "ipython3",
   "version": "3.13.5"
  }
 },
 "nbformat": 4,
 "nbformat_minor": 5
}
